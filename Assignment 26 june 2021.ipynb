{
 "cells": [
  {
   "cell_type": "code",
   "execution_count": 3,
   "metadata": {
    "collapsed": false
   },
   "outputs": [
    {
     "name": "stdout",
     "output_type": "stream",
     "text": [
      "The principal is 1500\n",
      "The rate of interest is 4.3\n",
      "The time period is 4\n",
      "The Simple Interest is 258.0\n"
     ]
    },
    {
     "data": {
      "text/plain": [
       "258.0"
      ]
     },
     "execution_count": 3,
     "metadata": {
     },
     "output_type": "execute_result"
    }
   ],
   "source": [
    "def Simple_interest(P,R,T):\n",
    "    print('The principal is', P)\n",
    "    print('The rate of interest is', R)\n",
    "    print('The time period is',T)\n",
    "    Si = (P * R * T)/100\n",
    "    print('The Simple Interest is', Si)\n",
    "    return Si\n",
    "Simple_interest(1500, 4.3, 4)"
   ]
  },
  {
   "cell_type": "code",
   "execution_count": 10,
   "metadata": {
    "cocalc": {
     "outputs": {
      "0": {
       "name": "input",
       "opts": {
        "password": false,
        "prompt": "Enter principal amount: "
       },
       "output_type": "stream",
       "value": "1500"
      },
      "1": {
       "name": "input",
       "opts": {
        "password": false,
        "prompt": "Enter rate of interest: "
       },
       "output_type": "stream",
       "value": "4.3"
      },
      "2": {
       "name": "input",
       "opts": {
        "password": false,
        "prompt": "Enter time in number of years: "
       },
       "output_type": "stream",
       "value": "4"
      }
     }
    },
    "collapsed": false
   },
   "outputs": [
    {
     "name": "stdout",
     "output_type": "stream",
     "text": "Enter principal amount:  1500"
    },
    {
     "name": "stdout",
     "output_type": "stream",
     "text": "Enter rate of interest:  4.3"
    },
    {
     "name": "stdout",
     "output_type": "stream",
     "text": "Enter time in number of years:  4"
    },
    {
     "name": "stdout",
     "output_type": "stream",
     "text": [
      "Simple interest is: 1758.0\n"
     ]
    }
   ],
   "source": [
    "principal = float(input('Enter principal amount: '))\n",
    "rate = float(input('Enter rate of interest: '))\n",
    "time = float(input('Enter time in number of years: '))\n",
    "Simple_interest = (principal*rate*time)/100+principal\n",
    "print(\"Simple interest is:\", Simple_interest)"
   ]
  },
  {
   "cell_type": "code",
   "execution_count": 0,
   "metadata": {
    "collapsed": false
   },
   "outputs": [
   ],
   "source": [
   ]
  },
  {
   "cell_type": "code",
   "execution_count": 0,
   "metadata": {
    "collapsed": false
   },
   "outputs": [
   ],
   "source": [
   ]
  },
  {
   "cell_type": "code",
   "execution_count": 0,
   "metadata": {
    "collapsed": false
   },
   "outputs": [
   ],
   "source": [
   ]
  },
  {
   "cell_type": "code",
   "execution_count": 0,
   "metadata": {
    "collapsed": false
   },
   "outputs": [
   ],
   "source": [
   ]
  },
  {
   "cell_type": "code",
   "execution_count": 0,
   "metadata": {
    "collapsed": false
   },
   "outputs": [
   ],
   "source": [
   ]
  },
  {
   "cell_type": "code",
   "execution_count": 0,
   "metadata": {
    "collapsed": false
   },
   "outputs": [
   ],
   "source": [
   ]
  },
  {
   "cell_type": "code",
   "execution_count": 0,
   "metadata": {
    "collapsed": false
   },
   "outputs": [
   ],
   "source": [
   ]
  },
  {
   "cell_type": "code",
   "execution_count": 0,
   "metadata": {
    "collapsed": false
   },
   "outputs": [
   ],
   "source": [
   ]
  },
  {
   "cell_type": "code",
   "execution_count": 0,
   "metadata": {
    "collapsed": false
   },
   "outputs": [
   ],
   "source": [
   ]
  },
  {
   "cell_type": "code",
   "execution_count": 0,
   "metadata": {
    "collapsed": false
   },
   "outputs": [
   ],
   "source": [
   ]
  },
  {
   "cell_type": "code",
   "execution_count": 0,
   "metadata": {
    "collapsed": false
   },
   "outputs": [
   ],
   "source": [
   ]
  },
  {
   "cell_type": "code",
   "execution_count": 0,
   "metadata": {
    "collapsed": false
   },
   "outputs": [
   ],
   "source": [
   ]
  }
 ],
 "metadata": {
  "kernelspec": {
   "display_name": "Python 3 (system-wide)",
   "language": "python",
   "metadata": {
    "cocalc": {
     "description": "Python 3 programming language",
     "priority": 100,
     "url": "https://www.python.org/"
    }
   },
   "name": "python3",
   "resource_dir": "/ext/jupyter/kernels/python3"
  },
  "language_info": {
   "codemirror_mode": {
    "name": "ipython",
    "version": 3
   },
   "file_extension": ".py",
   "mimetype": "text/x-python",
   "name": "python",
   "nbconvert_exporter": "python",
   "pygments_lexer": "ipython3",
   "version": "3.8.5"
  }
 },
 "nbformat": 4,
 "nbformat_minor": 4
}